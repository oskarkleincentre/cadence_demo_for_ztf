{
 "cells": [
  {
   "cell_type": "code",
   "execution_count": 1,
   "metadata": {
    "collapsed": true
   },
   "outputs": [],
   "source": [
    "%matplotlib inline"
   ]
  },
  {
   "cell_type": "code",
   "execution_count": 2,
   "metadata": {
    "collapsed": true
   },
   "outputs": [],
   "source": [
    "import numpy as np"
   ]
  },
  {
   "cell_type": "code",
   "execution_count": 3,
   "metadata": {
    "collapsed": false
   },
   "outputs": [],
   "source": [
    "from vizztf import ZTFSNViz"
   ]
  },
  {
   "cell_type": "code",
   "execution_count": 4,
   "metadata": {
    "collapsed": true
   },
   "outputs": [],
   "source": [
    "from sqlalchemy import create_engine"
   ]
  },
  {
   "cell_type": "code",
   "execution_count": 5,
   "metadata": {
    "collapsed": true
   },
   "outputs": [],
   "source": [
    "import pandas as pd\n",
    "import numpy as np"
   ]
  },
  {
   "cell_type": "code",
   "execution_count": 6,
   "metadata": {
    "collapsed": false
   },
   "outputs": [],
   "source": [
    "import sncosmo\n",
    "import logging\n",
    "logger = logging.getLogger('ztf')\n",
    "logger.setLevel(logging.INFO)\n",
    "#logging.basicConfig(level=logging.DEBUG, filename='images_test.log')"
   ]
  },
  {
   "cell_type": "code",
   "execution_count": 7,
   "metadata": {
    "collapsed": true
   },
   "outputs": [],
   "source": [
    "# Read cadences:\n",
    "def read_cadence(fname='/Users/rbiswas/Downloads/test_schedule_v3.db'):\n",
    "    \"\"\"read the output of a observing strategy simulation into a dataframe\n",
    "    \n",
    "    Paramameters\n",
    "    ------------\n",
    "    fname : str, optional\n",
    "        absolute path to the observing stratgy simulation\n",
    "    \"\"\"\n",
    "    fname = 'sqlite:///' + fname\n",
    "    engine = create_engine(fname)\n",
    "    df = pd.read_sql_table('Summary', con=engine)\n",
    "    df.obsHistID = df.obsHistID.astype(np.int)\n",
    "    df.set_index('obsHistID', inplace=True)\n",
    "    df.expMJD = df.expMJD + 365 * 2 # ZTF is not done\n",
    "    return df"
   ]
  },
  {
   "cell_type": "code",
   "execution_count": 8,
   "metadata": {
    "collapsed": false
   },
   "outputs": [],
   "source": [
    "def read_sim(fname='/Users/rbiswas/Downloads/sn_coord_time.dat'):\n",
    "    df = pd.read_csv(fname,\n",
    "                     skiprows=1, delim_whitespace=True,\n",
    "                     names=('z', 'ra', 'dec', 't0'))\n",
    "    #df.ra = df.ra * 360./24.0 - 180.\n",
    "    df.t0 = df.t0 - 2400000.5\n",
    "    return df\n",
    "#df.groupby(['night']).sessionID.count().hist(histtype='step')\n",
    "simsdf = read_sim()"
   ]
  },
  {
   "cell_type": "code",
   "execution_count": 9,
   "metadata": {
    "collapsed": false
   },
   "outputs": [],
   "source": [
    "simsdf = read_sim()"
   ]
  },
  {
   "cell_type": "code",
   "execution_count": 10,
   "metadata": {
    "collapsed": false
   },
   "outputs": [
    {
     "data": {
      "text/html": [
       "<div>\n",
       "<table border=\"1\" class=\"dataframe\">\n",
       "  <thead>\n",
       "    <tr style=\"text-align: right;\">\n",
       "      <th></th>\n",
       "      <th>z</th>\n",
       "      <th>ra</th>\n",
       "      <th>dec</th>\n",
       "      <th>t0</th>\n",
       "    </tr>\n",
       "  </thead>\n",
       "  <tbody>\n",
       "    <tr>\n",
       "      <th>0</th>\n",
       "      <td>0.150856</td>\n",
       "      <td>177.009298</td>\n",
       "      <td>-9.541729</td>\n",
       "      <td>58158.737911</td>\n",
       "    </tr>\n",
       "    <tr>\n",
       "      <th>1</th>\n",
       "      <td>0.193961</td>\n",
       "      <td>-142.895644</td>\n",
       "      <td>-16.445698</td>\n",
       "      <td>58171.555313</td>\n",
       "    </tr>\n",
       "    <tr>\n",
       "      <th>2</th>\n",
       "      <td>0.185266</td>\n",
       "      <td>104.668543</td>\n",
       "      <td>5.147820</td>\n",
       "      <td>58304.201365</td>\n",
       "    </tr>\n",
       "    <tr>\n",
       "      <th>3</th>\n",
       "      <td>0.101136</td>\n",
       "      <td>93.239688</td>\n",
       "      <td>81.126166</td>\n",
       "      <td>58232.383343</td>\n",
       "    </tr>\n",
       "    <tr>\n",
       "      <th>4</th>\n",
       "      <td>0.137615</td>\n",
       "      <td>39.767127</td>\n",
       "      <td>0.367004</td>\n",
       "      <td>58192.249369</td>\n",
       "    </tr>\n",
       "  </tbody>\n",
       "</table>\n",
       "</div>"
      ],
      "text/plain": [
       "          z          ra        dec            t0\n",
       "0  0.150856  177.009298  -9.541729  58158.737911\n",
       "1  0.193961 -142.895644 -16.445698  58171.555313\n",
       "2  0.185266  104.668543   5.147820  58304.201365\n",
       "3  0.101136   93.239688  81.126166  58232.383343\n",
       "4  0.137615   39.767127   0.367004  58192.249369"
      ]
     },
     "execution_count": 10,
     "metadata": {},
     "output_type": "execute_result"
    }
   ],
   "source": [
    "simsdf.head()"
   ]
  },
  {
   "cell_type": "code",
   "execution_count": 11,
   "metadata": {
    "collapsed": false
   },
   "outputs": [],
   "source": [
    "simsdf = pd.DataFrame(dict(z=[0.01, 0.1, 0.2], ra=np.ones(3)*5,\n",
    "                           dec=[-20., 0., 20.], t0=np.ones(3)*58185))"
   ]
  },
  {
   "cell_type": "code",
   "execution_count": 12,
   "metadata": {
    "collapsed": false
   },
   "outputs": [
    {
     "data": {
      "text/html": [
       "<div>\n",
       "<table border=\"1\" class=\"dataframe\">\n",
       "  <thead>\n",
       "    <tr style=\"text-align: right;\">\n",
       "      <th></th>\n",
       "      <th>dec</th>\n",
       "      <th>ra</th>\n",
       "      <th>t0</th>\n",
       "      <th>z</th>\n",
       "    </tr>\n",
       "  </thead>\n",
       "  <tbody>\n",
       "    <tr>\n",
       "      <th>0</th>\n",
       "      <td>-20.0</td>\n",
       "      <td>5.0</td>\n",
       "      <td>58185.0</td>\n",
       "      <td>0.01</td>\n",
       "    </tr>\n",
       "    <tr>\n",
       "      <th>1</th>\n",
       "      <td>0.0</td>\n",
       "      <td>5.0</td>\n",
       "      <td>58185.0</td>\n",
       "      <td>0.10</td>\n",
       "    </tr>\n",
       "    <tr>\n",
       "      <th>2</th>\n",
       "      <td>20.0</td>\n",
       "      <td>5.0</td>\n",
       "      <td>58185.0</td>\n",
       "      <td>0.20</td>\n",
       "    </tr>\n",
       "  </tbody>\n",
       "</table>\n",
       "</div>"
      ],
      "text/plain": [
       "    dec   ra       t0     z\n",
       "0 -20.0  5.0  58185.0  0.01\n",
       "1   0.0  5.0  58185.0  0.10\n",
       "2  20.0  5.0  58185.0  0.20"
      ]
     },
     "execution_count": 12,
     "metadata": {},
     "output_type": "execute_result"
    }
   ],
   "source": [
    "simsdf"
   ]
  },
  {
   "cell_type": "code",
   "execution_count": 13,
   "metadata": {
    "collapsed": false
   },
   "outputs": [],
   "source": [
    "df = read_cadence()"
   ]
  },
  {
   "cell_type": "code",
   "execution_count": 14,
   "metadata": {
    "collapsed": true
   },
   "outputs": [],
   "source": [
    "quickdf = df.query('night > 45 and night < 100')"
   ]
  },
  {
   "cell_type": "code",
   "execution_count": 15,
   "metadata": {
    "collapsed": false
   },
   "outputs": [],
   "source": [
    "ourdf = quickdf.groupby('night').agg('first')"
   ]
  },
  {
   "cell_type": "code",
   "execution_count": 50,
   "metadata": {
    "collapsed": false
   },
   "outputs": [
    {
     "data": {
      "text/plain": [
       "expMJD    58186.1\n",
       "filter          g\n",
       "Name: 68, dtype: object"
      ]
     },
     "execution_count": 50,
     "metadata": {},
     "output_type": "execute_result"
    }
   ],
   "source": [
    "ourdf.loc[68, ['expMJD', 'filter']]"
   ]
  },
  {
   "cell_type": "code",
   "execution_count": 46,
   "metadata": {
    "collapsed": false
   },
   "outputs": [
    {
     "data": {
      "text/html": [
       "<div>\n",
       "<table border=\"1\" class=\"dataframe\">\n",
       "  <thead>\n",
       "    <tr style=\"text-align: right;\">\n",
       "      <th></th>\n",
       "      <th>sessionID</th>\n",
       "      <th>propID</th>\n",
       "      <th>fieldID</th>\n",
       "      <th>fieldRA</th>\n",
       "      <th>fieldDec</th>\n",
       "      <th>filter</th>\n",
       "      <th>expDate</th>\n",
       "      <th>expMJD</th>\n",
       "      <th>visitTime</th>\n",
       "      <th>visitExpTime</th>\n",
       "      <th>...</th>\n",
       "      <th>rawSeeing</th>\n",
       "      <th>wind</th>\n",
       "      <th>humidity</th>\n",
       "      <th>slewDist</th>\n",
       "      <th>slewTime</th>\n",
       "      <th>fiveSigmaDepth</th>\n",
       "      <th>ditheredRA</th>\n",
       "      <th>ditheredDec</th>\n",
       "      <th>totalRequestsTonight</th>\n",
       "      <th>metricValue</th>\n",
       "    </tr>\n",
       "    <tr>\n",
       "      <th>night</th>\n",
       "      <th></th>\n",
       "      <th></th>\n",
       "      <th></th>\n",
       "      <th></th>\n",
       "      <th></th>\n",
       "      <th></th>\n",
       "      <th></th>\n",
       "      <th></th>\n",
       "      <th></th>\n",
       "      <th></th>\n",
       "      <th></th>\n",
       "      <th></th>\n",
       "      <th></th>\n",
       "      <th></th>\n",
       "      <th></th>\n",
       "      <th></th>\n",
       "      <th></th>\n",
       "      <th></th>\n",
       "      <th></th>\n",
       "      <th></th>\n",
       "      <th></th>\n",
       "    </tr>\n",
       "  </thead>\n",
       "  <tbody>\n",
       "    <tr>\n",
       "      <th>63</th>\n",
       "      <td>0</td>\n",
       "      <td>2</td>\n",
       "      <td>458</td>\n",
       "      <td>1.437432</td>\n",
       "      <td>0.079412</td>\n",
       "      <td>r</td>\n",
       "      <td>5457667</td>\n",
       "      <td>58181.167442</td>\n",
       "      <td>30.0</td>\n",
       "      <td>30.0</td>\n",
       "      <td>...</td>\n",
       "      <td>NaN</td>\n",
       "      <td>NaN</td>\n",
       "      <td>NaN</td>\n",
       "      <td>0.121977</td>\n",
       "      <td>11.275233</td>\n",
       "      <td>0.0</td>\n",
       "      <td>0.0</td>\n",
       "      <td>0.0</td>\n",
       "      <td>2</td>\n",
       "      <td>0.0</td>\n",
       "    </tr>\n",
       "    <tr>\n",
       "      <th>64</th>\n",
       "      <td>0</td>\n",
       "      <td>2</td>\n",
       "      <td>354</td>\n",
       "      <td>1.198055</td>\n",
       "      <td>-0.171915</td>\n",
       "      <td>g</td>\n",
       "      <td>5540558</td>\n",
       "      <td>58182.126833</td>\n",
       "      <td>30.0</td>\n",
       "      <td>30.0</td>\n",
       "      <td>...</td>\n",
       "      <td>NaN</td>\n",
       "      <td>NaN</td>\n",
       "      <td>NaN</td>\n",
       "      <td>0.121216</td>\n",
       "      <td>10.395945</td>\n",
       "      <td>0.0</td>\n",
       "      <td>0.0</td>\n",
       "      <td>0.0</td>\n",
       "      <td>2</td>\n",
       "      <td>0.0</td>\n",
       "    </tr>\n",
       "    <tr>\n",
       "      <th>65</th>\n",
       "      <td>0</td>\n",
       "      <td>2</td>\n",
       "      <td>301</td>\n",
       "      <td>0.893619</td>\n",
       "      <td>-0.297579</td>\n",
       "      <td>g</td>\n",
       "      <td>5626967</td>\n",
       "      <td>58183.126940</td>\n",
       "      <td>30.0</td>\n",
       "      <td>30.0</td>\n",
       "      <td>...</td>\n",
       "      <td>NaN</td>\n",
       "      <td>NaN</td>\n",
       "      <td>NaN</td>\n",
       "      <td>0.118164</td>\n",
       "      <td>10.415420</td>\n",
       "      <td>0.0</td>\n",
       "      <td>0.0</td>\n",
       "      <td>0.0</td>\n",
       "      <td>2</td>\n",
       "      <td>0.0</td>\n",
       "    </tr>\n",
       "    <tr>\n",
       "      <th>66</th>\n",
       "      <td>0</td>\n",
       "      <td>2</td>\n",
       "      <td>352</td>\n",
       "      <td>0.951992</td>\n",
       "      <td>-0.171915</td>\n",
       "      <td>r</td>\n",
       "      <td>5713290</td>\n",
       "      <td>58184.126045</td>\n",
       "      <td>30.0</td>\n",
       "      <td>30.0</td>\n",
       "      <td>...</td>\n",
       "      <td>NaN</td>\n",
       "      <td>NaN</td>\n",
       "      <td>NaN</td>\n",
       "      <td>0.140593</td>\n",
       "      <td>10.525539</td>\n",
       "      <td>0.0</td>\n",
       "      <td>0.0</td>\n",
       "      <td>0.0</td>\n",
       "      <td>2</td>\n",
       "      <td>0.0</td>\n",
       "    </tr>\n",
       "    <tr>\n",
       "      <th>67</th>\n",
       "      <td>0</td>\n",
       "      <td>2</td>\n",
       "      <td>351</td>\n",
       "      <td>0.828960</td>\n",
       "      <td>-0.171915</td>\n",
       "      <td>g</td>\n",
       "      <td>5799782</td>\n",
       "      <td>58185.127107</td>\n",
       "      <td>30.0</td>\n",
       "      <td>30.0</td>\n",
       "      <td>...</td>\n",
       "      <td>NaN</td>\n",
       "      <td>NaN</td>\n",
       "      <td>NaN</td>\n",
       "      <td>0.140435</td>\n",
       "      <td>10.373662</td>\n",
       "      <td>0.0</td>\n",
       "      <td>0.0</td>\n",
       "      <td>0.0</td>\n",
       "      <td>2</td>\n",
       "      <td>0.0</td>\n",
       "    </tr>\n",
       "    <tr>\n",
       "      <th>68</th>\n",
       "      <td>0</td>\n",
       "      <td>2</td>\n",
       "      <td>302</td>\n",
       "      <td>1.017222</td>\n",
       "      <td>-0.297579</td>\n",
       "      <td>g</td>\n",
       "      <td>5886167</td>\n",
       "      <td>58186.126934</td>\n",
       "      <td>30.0</td>\n",
       "      <td>30.0</td>\n",
       "      <td>...</td>\n",
       "      <td>NaN</td>\n",
       "      <td>NaN</td>\n",
       "      <td>NaN</td>\n",
       "      <td>0.118164</td>\n",
       "      <td>10.415414</td>\n",
       "      <td>0.0</td>\n",
       "      <td>0.0</td>\n",
       "      <td>0.0</td>\n",
       "      <td>2</td>\n",
       "      <td>0.0</td>\n",
       "    </tr>\n",
       "    <tr>\n",
       "      <th>70</th>\n",
       "      <td>0</td>\n",
       "      <td>2</td>\n",
       "      <td>575</td>\n",
       "      <td>3.147249</td>\n",
       "      <td>0.330740</td>\n",
       "      <td>r</td>\n",
       "      <td>6078650</td>\n",
       "      <td>58188.354745</td>\n",
       "      <td>30.0</td>\n",
       "      <td>30.0</td>\n",
       "      <td>...</td>\n",
       "      <td>NaN</td>\n",
       "      <td>NaN</td>\n",
       "      <td>NaN</td>\n",
       "      <td>0.116624</td>\n",
       "      <td>16.400363</td>\n",
       "      <td>0.0</td>\n",
       "      <td>0.0</td>\n",
       "      <td>0.0</td>\n",
       "      <td>2</td>\n",
       "      <td>0.0</td>\n",
       "    </tr>\n",
       "    <tr>\n",
       "      <th>71</th>\n",
       "      <td>0</td>\n",
       "      <td>2</td>\n",
       "      <td>412</td>\n",
       "      <td>1.994213</td>\n",
       "      <td>-0.046251</td>\n",
       "      <td>g</td>\n",
       "      <td>6148969</td>\n",
       "      <td>58189.168627</td>\n",
       "      <td>30.0</td>\n",
       "      <td>30.0</td>\n",
       "      <td>...</td>\n",
       "      <td>NaN</td>\n",
       "      <td>NaN</td>\n",
       "      <td>NaN</td>\n",
       "      <td>0.144679</td>\n",
       "      <td>10.170358</td>\n",
       "      <td>0.0</td>\n",
       "      <td>0.0</td>\n",
       "      <td>0.0</td>\n",
       "      <td>2</td>\n",
       "      <td>0.0</td>\n",
       "    </tr>\n",
       "  </tbody>\n",
       "</table>\n",
       "<p>8 rows × 46 columns</p>\n",
       "</div>"
      ],
      "text/plain": [
       "       sessionID  propID  fieldID   fieldRA  fieldDec filter  expDate  \\\n",
       "night                                                                   \n",
       "63             0       2      458  1.437432  0.079412      r  5457667   \n",
       "64             0       2      354  1.198055 -0.171915      g  5540558   \n",
       "65             0       2      301  0.893619 -0.297579      g  5626967   \n",
       "66             0       2      352  0.951992 -0.171915      r  5713290   \n",
       "67             0       2      351  0.828960 -0.171915      g  5799782   \n",
       "68             0       2      302  1.017222 -0.297579      g  5886167   \n",
       "70             0       2      575  3.147249  0.330740      r  6078650   \n",
       "71             0       2      412  1.994213 -0.046251      g  6148969   \n",
       "\n",
       "             expMJD  visitTime  visitExpTime     ...       rawSeeing  wind  \\\n",
       "night                                            ...                         \n",
       "63     58181.167442       30.0          30.0     ...             NaN   NaN   \n",
       "64     58182.126833       30.0          30.0     ...             NaN   NaN   \n",
       "65     58183.126940       30.0          30.0     ...             NaN   NaN   \n",
       "66     58184.126045       30.0          30.0     ...             NaN   NaN   \n",
       "67     58185.127107       30.0          30.0     ...             NaN   NaN   \n",
       "68     58186.126934       30.0          30.0     ...             NaN   NaN   \n",
       "70     58188.354745       30.0          30.0     ...             NaN   NaN   \n",
       "71     58189.168627       30.0          30.0     ...             NaN   NaN   \n",
       "\n",
       "       humidity  slewDist   slewTime  fiveSigmaDepth  ditheredRA  ditheredDec  \\\n",
       "night                                                                           \n",
       "63          NaN  0.121977  11.275233             0.0         0.0          0.0   \n",
       "64          NaN  0.121216  10.395945             0.0         0.0          0.0   \n",
       "65          NaN  0.118164  10.415420             0.0         0.0          0.0   \n",
       "66          NaN  0.140593  10.525539             0.0         0.0          0.0   \n",
       "67          NaN  0.140435  10.373662             0.0         0.0          0.0   \n",
       "68          NaN  0.118164  10.415414             0.0         0.0          0.0   \n",
       "70          NaN  0.116624  16.400363             0.0         0.0          0.0   \n",
       "71          NaN  0.144679  10.170358             0.0         0.0          0.0   \n",
       "\n",
       "       totalRequestsTonight  metricValue  \n",
       "night                                     \n",
       "63                        2          0.0  \n",
       "64                        2          0.0  \n",
       "65                        2          0.0  \n",
       "66                        2          0.0  \n",
       "67                        2          0.0  \n",
       "68                        2          0.0  \n",
       "70                        2          0.0  \n",
       "71                        2          0.0  \n",
       "\n",
       "[8 rows x 46 columns]"
      ]
     },
     "execution_count": 46,
     "metadata": {},
     "output_type": "execute_result"
    }
   ],
   "source": [
    "ourdf.query('expMJD < 58190 and expMJD > 58180')"
   ]
  },
  {
   "cell_type": "markdown",
   "metadata": {},
   "source": [
    "# Check that it uses the simulation and can Generate an image correctly"
   ]
  },
  {
   "cell_type": "code",
   "execution_count": 17,
   "metadata": {
    "collapsed": false
   },
   "outputs": [],
   "source": [
    "ztfsky = ZTFSNViz(showVisibleFields=True, showVarScatter=True, showMW=True,\n",
    "                  data_dir='/Users/rbiswas/doc/projects/ZTF/data_year/')"
   ]
  },
  {
   "cell_type": "code",
   "execution_count": 18,
   "metadata": {
    "collapsed": false
   },
   "outputs": [
    {
     "data": {
      "text/plain": [
       "True"
      ]
     },
     "execution_count": 18,
     "metadata": {},
     "output_type": "execute_result"
    }
   ],
   "source": [
    "ztfsky.show_var_scatter"
   ]
  },
  {
   "cell_type": "code",
   "execution_count": 19,
   "metadata": {
    "collapsed": false
   },
   "outputs": [
    {
     "data": {
      "text/plain": [
       "True"
      ]
     },
     "execution_count": 19,
     "metadata": {},
     "output_type": "execute_result"
    }
   ],
   "source": [
    "ztfsky.colorCodeRedshifts"
   ]
  },
  {
   "cell_type": "code",
   "execution_count": 51,
   "metadata": {
    "collapsed": false
   },
   "outputs": [],
   "source": [
    "simdata = ztfsky.generate_var_scatter(58186.1, 'g', simsdf)"
   ]
  },
  {
   "cell_type": "code",
   "execution_count": 52,
   "metadata": {
    "collapsed": true
   },
   "outputs": [],
   "source": [
    "#simdata['area'] = simdata.area.apply(lambda x: x* 2)"
   ]
  },
  {
   "cell_type": "code",
   "execution_count": 53,
   "metadata": {
    "collapsed": false
   },
   "outputs": [
    {
     "data": {
      "text/html": [
       "<div>\n",
       "<table border=\"1\" class=\"dataframe\">\n",
       "  <thead>\n",
       "    <tr style=\"text-align: right;\">\n",
       "      <th></th>\n",
       "      <th>dec</th>\n",
       "      <th>ra</th>\n",
       "      <th>t0</th>\n",
       "      <th>z</th>\n",
       "      <th>time</th>\n",
       "      <th>mag</th>\n",
       "      <th>x0</th>\n",
       "      <th>area</th>\n",
       "    </tr>\n",
       "  </thead>\n",
       "  <tbody>\n",
       "    <tr>\n",
       "      <th>0</th>\n",
       "      <td>-20.0</td>\n",
       "      <td>5.0</td>\n",
       "      <td>58185.0</td>\n",
       "      <td>0.01</td>\n",
       "      <td>1.1</td>\n",
       "      <td>13.991032</td>\n",
       "      <td>0.041904</td>\n",
       "      <td>44.316670</td>\n",
       "    </tr>\n",
       "    <tr>\n",
       "      <th>1</th>\n",
       "      <td>0.0</td>\n",
       "      <td>5.0</td>\n",
       "      <td>58185.0</td>\n",
       "      <td>0.10</td>\n",
       "      <td>1.1</td>\n",
       "      <td>19.067328</td>\n",
       "      <td>0.000369</td>\n",
       "      <td>4.002548</td>\n",
       "    </tr>\n",
       "    <tr>\n",
       "      <th>2</th>\n",
       "      <td>20.0</td>\n",
       "      <td>5.0</td>\n",
       "      <td>58185.0</td>\n",
       "      <td>0.20</td>\n",
       "      <td>1.1</td>\n",
       "      <td>20.767403</td>\n",
       "      <td>0.000081</td>\n",
       "      <td>0.000000</td>\n",
       "    </tr>\n",
       "  </tbody>\n",
       "</table>\n",
       "</div>"
      ],
      "text/plain": [
       "    dec   ra       t0     z  time        mag        x0       area\n",
       "0 -20.0  5.0  58185.0  0.01   1.1  13.991032  0.041904  44.316670\n",
       "1   0.0  5.0  58185.0  0.10   1.1  19.067328  0.000369   4.002548\n",
       "2  20.0  5.0  58185.0  0.20   1.1  20.767403  0.000081   0.000000"
      ]
     },
     "execution_count": 53,
     "metadata": {},
     "output_type": "execute_result"
    }
   ],
   "source": [
    "simdata"
   ]
  },
  {
   "cell_type": "markdown",
   "metadata": {},
   "source": [
    "### Check generating a single image works"
   ]
  },
  {
   "cell_type": "code",
   "execution_count": 23,
   "metadata": {
    "collapsed": false
   },
   "outputs": [
    {
     "data": {
      "text/plain": [
       "True"
      ]
     },
     "execution_count": 23,
     "metadata": {},
     "output_type": "execute_result"
    }
   ],
   "source": [
    "ztfsky.colorCodeRedshifts"
   ]
  },
  {
   "cell_type": "code",
   "execution_count": 24,
   "metadata": {
    "collapsed": false,
    "scrolled": true
   },
   "outputs": [
    {
     "name": "stderr",
     "output_type": "stream",
     "text": [
      "/usr/local/miniconda/lib/python2.7/site-packages/matplotlib/patches.py:107: UserWarning: Setting the 'color' property will overridethe edgecolor or facecolor properties. \n",
      "  warnings.warn(\"Setting the 'color' property will override\"\n"
     ]
    },
    {
     "data": {
      "image/png": "[encoded data removed]",
      "text/plain": [
       "<matplotlib.figure.Figure at 0x104486b50>"
      ]
     },
     "metadata": {},
     "output_type": "display_data"
    }
   ],
   "source": [
    "ra, dec, mjd, band = ourdf.loc[70, ['fieldRA', 'fieldDec', 'expMJD', 'filter']]\n",
    "fig, ax, m, xx = ztfsky.generate_image(np.degrees(ra), np.degrees(dec), 4., \n",
    "                                mjd, band=band, mwColor='cornflowerblue',\n",
    "                                alpha=1.0,\n",
    "                                sndf=simsdf, bg_color='royalblue',\n",
    "                                surveystart=df.expMJD.min(),\n",
    "                                loc='best')"
   ]
  },
  {
   "cell_type": "markdown",
   "metadata": {},
   "source": [
    "## Generate Multiple images conveniently"
   ]
  },
  {
   "cell_type": "code",
   "execution_count": 25,
   "metadata": {
    "collapsed": false
   },
   "outputs": [],
   "source": [
    "import logging\n",
    "logging.basicConfig(filename='multiImage.log', level=logging.INFO)"
   ]
  },
  {
   "cell_type": "code",
   "execution_count": null,
   "metadata": {
    "collapsed": false
   },
   "outputs": [],
   "source": [
    "!rm ztf_obsHistID_03*.png "
   ]
  },
  {
   "cell_type": "code",
   "execution_count": 26,
   "metadata": {
    "collapsed": true
   },
   "outputs": [],
   "source": [
    "import matplotlib.pyplot as plt"
   ]
  },
  {
   "cell_type": "code",
   "execution_count": 27,
   "metadata": {
    "collapsed": false
   },
   "outputs": [
    {
     "data": {
      "text/html": [
       "<div>\n",
       "<table border=\"1\" class=\"dataframe\">\n",
       "  <thead>\n",
       "    <tr style=\"text-align: right;\">\n",
       "      <th></th>\n",
       "      <th>expMJD</th>\n",
       "      <th>filter</th>\n",
       "    </tr>\n",
       "    <tr>\n",
       "      <th>night</th>\n",
       "      <th></th>\n",
       "      <th></th>\n",
       "    </tr>\n",
       "  </thead>\n",
       "  <tbody>\n",
       "    <tr>\n",
       "      <th>63</th>\n",
       "      <td>58181.167442</td>\n",
       "      <td>r</td>\n",
       "    </tr>\n",
       "    <tr>\n",
       "      <th>64</th>\n",
       "      <td>58182.126833</td>\n",
       "      <td>g</td>\n",
       "    </tr>\n",
       "    <tr>\n",
       "      <th>65</th>\n",
       "      <td>58183.126940</td>\n",
       "      <td>g</td>\n",
       "    </tr>\n",
       "    <tr>\n",
       "      <th>66</th>\n",
       "      <td>58184.126045</td>\n",
       "      <td>r</td>\n",
       "    </tr>\n",
       "    <tr>\n",
       "      <th>67</th>\n",
       "      <td>58185.127107</td>\n",
       "      <td>g</td>\n",
       "    </tr>\n",
       "    <tr>\n",
       "      <th>68</th>\n",
       "      <td>58186.126934</td>\n",
       "      <td>g</td>\n",
       "    </tr>\n",
       "    <tr>\n",
       "      <th>70</th>\n",
       "      <td>58188.354745</td>\n",
       "      <td>r</td>\n",
       "    </tr>\n",
       "    <tr>\n",
       "      <th>71</th>\n",
       "      <td>58189.168627</td>\n",
       "      <td>g</td>\n",
       "    </tr>\n",
       "  </tbody>\n",
       "</table>\n",
       "</div>"
      ],
      "text/plain": [
       "             expMJD filter\n",
       "night                     \n",
       "63     58181.167442      r\n",
       "64     58182.126833      g\n",
       "65     58183.126940      g\n",
       "66     58184.126045      r\n",
       "67     58185.127107      g\n",
       "68     58186.126934      g\n",
       "70     58188.354745      r\n",
       "71     58189.168627      g"
      ]
     },
     "execution_count": 27,
     "metadata": {},
     "output_type": "execute_result"
    }
   ],
   "source": [
    "ourdf[['expMJD', 'filter']].query('expMJD > 58181 and expMJD < 58190')"
   ]
  },
  {
   "cell_type": "code",
   "execution_count": 28,
   "metadata": {
    "collapsed": false
   },
   "outputs": [
    {
     "data": {
      "text/plain": [
       "43"
      ]
     },
     "execution_count": 28,
     "metadata": {},
     "output_type": "execute_result"
    }
   ],
   "source": [
    "len(ourdf)"
   ]
  },
  {
   "cell_type": "code",
   "execution_count": 29,
   "metadata": {
    "collapsed": false
   },
   "outputs": [
    {
     "data": {
      "text/html": [
       "<div>\n",
       "<table border=\"1\" class=\"dataframe\">\n",
       "  <thead>\n",
       "    <tr style=\"text-align: right;\">\n",
       "      <th></th>\n",
       "      <th>sessionID</th>\n",
       "      <th>propID</th>\n",
       "      <th>fieldID</th>\n",
       "      <th>fieldRA</th>\n",
       "      <th>fieldDec</th>\n",
       "      <th>filter</th>\n",
       "      <th>expDate</th>\n",
       "      <th>expMJD</th>\n",
       "      <th>visitTime</th>\n",
       "      <th>visitExpTime</th>\n",
       "      <th>...</th>\n",
       "      <th>rawSeeing</th>\n",
       "      <th>wind</th>\n",
       "      <th>humidity</th>\n",
       "      <th>slewDist</th>\n",
       "      <th>slewTime</th>\n",
       "      <th>fiveSigmaDepth</th>\n",
       "      <th>ditheredRA</th>\n",
       "      <th>ditheredDec</th>\n",
       "      <th>totalRequestsTonight</th>\n",
       "      <th>metricValue</th>\n",
       "    </tr>\n",
       "    <tr>\n",
       "      <th>night</th>\n",
       "      <th></th>\n",
       "      <th></th>\n",
       "      <th></th>\n",
       "      <th></th>\n",
       "      <th></th>\n",
       "      <th></th>\n",
       "      <th></th>\n",
       "      <th></th>\n",
       "      <th></th>\n",
       "      <th></th>\n",
       "      <th></th>\n",
       "      <th></th>\n",
       "      <th></th>\n",
       "      <th></th>\n",
       "      <th></th>\n",
       "      <th></th>\n",
       "      <th></th>\n",
       "      <th></th>\n",
       "      <th></th>\n",
       "      <th></th>\n",
       "      <th></th>\n",
       "    </tr>\n",
       "  </thead>\n",
       "  <tbody>\n",
       "    <tr>\n",
       "      <th>55</th>\n",
       "      <td>0</td>\n",
       "      <td>2</td>\n",
       "      <td>509</td>\n",
       "      <td>1.249937</td>\n",
       "      <td>0.205076</td>\n",
       "      <td>r</td>\n",
       "      <td>4762932</td>\n",
       "      <td>58173.126536</td>\n",
       "      <td>30.0</td>\n",
       "      <td>30.0</td>\n",
       "      <td>...</td>\n",
       "      <td>NaN</td>\n",
       "      <td>NaN</td>\n",
       "      <td>NaN</td>\n",
       "      <td>0.0</td>\n",
       "      <td>10.0</td>\n",
       "      <td>0.0</td>\n",
       "      <td>0.0</td>\n",
       "      <td>0.0</td>\n",
       "      <td>2</td>\n",
       "      <td>0.0</td>\n",
       "    </tr>\n",
       "  </tbody>\n",
       "</table>\n",
       "<p>1 rows × 46 columns</p>\n",
       "</div>"
      ],
      "text/plain": [
       "       sessionID  propID  fieldID   fieldRA  fieldDec filter  expDate  \\\n",
       "night                                                                   \n",
       "55             0       2      509  1.249937  0.205076      r  4762932   \n",
       "\n",
       "             expMJD  visitTime  visitExpTime     ...       rawSeeing  wind  \\\n",
       "night                                            ...                         \n",
       "55     58173.126536       30.0          30.0     ...             NaN   NaN   \n",
       "\n",
       "       humidity  slewDist  slewTime  fiveSigmaDepth  ditheredRA  ditheredDec  \\\n",
       "night                                                                          \n",
       "55          NaN       0.0      10.0             0.0         0.0          0.0   \n",
       "\n",
       "       totalRequestsTonight  metricValue  \n",
       "night                                     \n",
       "55                        2          0.0  \n",
       "\n",
       "[1 rows x 46 columns]"
      ]
     },
     "execution_count": 29,
     "metadata": {},
     "output_type": "execute_result"
    }
   ],
   "source": [
    "ourdf.query('expMJD > 58172 and expMJD < 58174')"
   ]
  },
  {
   "cell_type": "code",
   "execution_count": 30,
   "metadata": {
    "collapsed": false
   },
   "outputs": [
    {
     "data": {
      "text/html": [
       "<div>\n",
       "<table border=\"1\" class=\"dataframe\">\n",
       "  <thead>\n",
       "    <tr style=\"text-align: right;\">\n",
       "      <th></th>\n",
       "      <th>dec</th>\n",
       "      <th>ra</th>\n",
       "      <th>t0</th>\n",
       "      <th>z</th>\n",
       "      <th>time</th>\n",
       "      <th>mag</th>\n",
       "      <th>x0</th>\n",
       "      <th>area</th>\n",
       "    </tr>\n",
       "  </thead>\n",
       "  <tbody>\n",
       "    <tr>\n",
       "      <th>0</th>\n",
       "      <td>-20.0</td>\n",
       "      <td>5.0</td>\n",
       "      <td>58185.0</td>\n",
       "      <td>0.01</td>\n",
       "      <td>-11.88</td>\n",
       "      <td>15.452444</td>\n",
       "      <td>0.041904</td>\n",
       "      <td>27.427824</td>\n",
       "    </tr>\n",
       "    <tr>\n",
       "      <th>1</th>\n",
       "      <td>0.0</td>\n",
       "      <td>5.0</td>\n",
       "      <td>58185.0</td>\n",
       "      <td>0.10</td>\n",
       "      <td>-11.88</td>\n",
       "      <td>20.250332</td>\n",
       "      <td>0.000369</td>\n",
       "      <td>2.012334</td>\n",
       "    </tr>\n",
       "    <tr>\n",
       "      <th>2</th>\n",
       "      <td>20.0</td>\n",
       "      <td>5.0</td>\n",
       "      <td>58185.0</td>\n",
       "      <td>0.20</td>\n",
       "      <td>-11.88</td>\n",
       "      <td>21.568484</td>\n",
       "      <td>0.000081</td>\n",
       "      <td>0.000000</td>\n",
       "    </tr>\n",
       "  </tbody>\n",
       "</table>\n",
       "</div>"
      ],
      "text/plain": [
       "    dec   ra       t0     z   time        mag        x0       area\n",
       "0 -20.0  5.0  58185.0  0.01 -11.88  15.452444  0.041904  27.427824\n",
       "1   0.0  5.0  58185.0  0.10 -11.88  20.250332  0.000369   2.012334\n",
       "2  20.0  5.0  58185.0  0.20 -11.88  21.568484  0.000081   0.000000"
      ]
     },
     "execution_count": 30,
     "metadata": {},
     "output_type": "execute_result"
    }
   ],
   "source": [
    "ztfsky.generate_var_scatter(58173.12, 'r', simsdf)"
   ]
  },
  {
   "cell_type": "code",
   "execution_count": 31,
   "metadata": {
    "collapsed": false
   },
   "outputs": [
    {
     "name": "stderr",
     "output_type": "stream",
     "text": [
      "/Users/rbiswas/.local/lib/python2.7/site-packages/sncosmo-1.6.dev0-py2.7-macosx-10.6-x86_64.egg/sncosmo/models.py:187: RuntimeWarning: divide by zero encountered in log10\n",
      "  result[i] = -2.5 * np.log10(f / zpf)\n"
     ]
    }
   ],
   "source": [
    "ztfsky.generate_images_from(ourdf.index.values, ourdf, rootname='scalingTest_', \n",
    "                            snsims=simsdf, savefig=True)"
   ]
  },
  {
   "cell_type": "code",
   "execution_count": 32,
   "metadata": {
    "collapsed": false,
    "scrolled": true
   },
   "outputs": [
    {
     "name": "stdout",
     "output_type": "stream",
     "text": [
      "total 25456\r\n",
      "-rw-r--r--@ 1 rbiswas  staff   85895 Nov 10 12:55 day_1.png\r\n",
      "-rw-r--r--@ 1 rbiswas  staff  109050 Nov 10 12:55 day_16.png\r\n",
      "-rw-r--r--@ 1 rbiswas  staff  113183 Nov 11 17:01 ztf_obsHistID_000001.png\r\n",
      "-rw-r--r--@ 1 rbiswas  staff  113017 Nov 11 17:02 ztf_obsHistID_000002.png\r\n",
      "-rw-r--r--@ 1 rbiswas  staff  112706 Nov 11 17:02 ztf_obsHistID_000003.png\r\n",
      "-rw-r--r--@ 1 rbiswas  staff  112495 Nov 11 17:02 ztf_obsHistID_000004.png\r\n",
      "-rw-r--r--  1 rbiswas  staff    5555 Nov 12 22:15 Untitled.ipynb\r\n",
      "-rw-r--r--  1 rbiswas  staff   99419 Nov 13 13:59 Demo_ztf_visibleFields.ipynb\r\n",
      "-rw-r--r--  1 rbiswas  staff  367158 Nov 13 13:59 Demo_ztf_camera.ipynb\r\n",
      "-rw-r--r--  1 rbiswas  staff  311771 Nov 13 13:59 Demo_testMW.ipynb\r\n",
      "-rw-r--r--@ 1 rbiswas  staff  134085 Nov 13 14:11 colorcoded.png\r\n",
      "-rw-r--r--@ 1 rbiswas  staff  147883 Nov 13 14:18 ztf_obsHistID_030000.png\r\n",
      "-rw-r--r--@ 1 rbiswas  staff  147977 Nov 13 14:18 ztf_obsHistID_030001.png\r\n",
      "-rw-r--r--@ 1 rbiswas  staff  148330 Nov 13 14:19 ztf_obsHistID_030002.png\r\n",
      "-rw-r--r--@ 1 rbiswas  staff  148253 Nov 13 14:19 ztf_obsHistID_030003.png\r\n",
      "-rw-r--r--@ 1 rbiswas  staff  148130 Nov 13 14:20 ztf_obsHistID_030004.png\r\n",
      "-rw-r--r--@ 1 rbiswas  staff  148308 Nov 13 14:20 ztf_obsHistID_030005.png\r\n",
      "-rw-r--r--@ 1 rbiswas  staff  148220 Nov 13 14:20 ztf_obsHistID_030006.png\r\n",
      "-rw-r--r--@ 1 rbiswas  staff  148196 Nov 13 14:21 ztf_obsHistID_030007.png\r\n",
      "-rw-r--r--@ 1 rbiswas  staff  148490 Nov 13 14:21 ztf_obsHistID_030008.png\r\n",
      "-rw-r--r--@ 1 rbiswas  staff  148796 Nov 13 14:22 ztf_obsHistID_030009.png\r\n",
      "-rw-r--r--@ 1 rbiswas  staff  148260 Nov 13 14:22 ztf_obsHistID_030010.png\r\n",
      "-rw-r--r--@ 1 rbiswas  staff  148584 Nov 13 14:22 ztf_obsHistID_030011.png\r\n",
      "-rw-r--r--@ 1 rbiswas  staff  148298 Nov 13 14:23 ztf_obsHistID_030012.png\r\n",
      "-rw-r--r--@ 1 rbiswas  staff  148255 Nov 13 14:23 ztf_obsHistID_030013.png\r\n",
      "-rw-r--r--@ 1 rbiswas  staff  148609 Nov 13 14:24 ztf_obsHistID_030014.png\r\n",
      "-rw-r--r--@ 1 rbiswas  staff  148733 Nov 13 14:24 ztf_obsHistID_030015.png\r\n",
      "-rw-r--r--@ 1 rbiswas  staff  148667 Nov 13 14:25 ztf_obsHistID_030016.png\r\n",
      "-rw-r--r--@ 1 rbiswas  staff  148813 Nov 13 14:25 ztf_obsHistID_030017.png\r\n",
      "-rw-r--r--@ 1 rbiswas  staff  149122 Nov 13 14:25 ztf_obsHistID_030018.png\r\n",
      "-rw-r--r--@ 1 rbiswas  staff  148946 Nov 13 14:26 ztf_obsHistID_030019.png\r\n",
      "-rw-r--r--@ 1 rbiswas  staff  149489 Nov 13 14:26 ztf_obsHistID_030020.png\r\n",
      "-rw-r--r--@ 1 rbiswas  staff  149706 Nov 13 14:27 ztf_obsHistID_030021.png\r\n",
      "-rw-r--r--@ 1 rbiswas  staff  149922 Nov 13 14:27 ztf_obsHistID_030022.png\r\n",
      "-rw-r--r--@ 1 rbiswas  staff  149655 Nov 13 14:27 ztf_obsHistID_030023.png\r\n",
      "-rw-r--r--@ 1 rbiswas  staff  149247 Nov 13 14:28 ztf_obsHistID_030024.png\r\n",
      "-rw-r--r--@ 1 rbiswas  staff  149547 Nov 13 14:28 ztf_obsHistID_030025.png\r\n",
      "-rw-r--r--@ 1 rbiswas  staff  150157 Nov 13 14:29 ztf_obsHistID_030026.png\r\n",
      "-rw-r--r--@ 1 rbiswas  staff  149660 Nov 13 14:29 ztf_obsHistID_030027.png\r\n",
      "-rw-r--r--@ 1 rbiswas  staff  150067 Nov 13 14:29 ztf_obsHistID_030028.png\r\n",
      "-rw-r--r--@ 1 rbiswas  staff  150354 Nov 13 14:30 ztf_obsHistID_030029.png\r\n",
      "-rw-r--r--@ 1 rbiswas  staff  150525 Nov 13 14:30 ztf_obsHistID_030030.png\r\n",
      "-rw-r--r--@ 1 rbiswas  staff  150623 Nov 13 14:31 ztf_obsHistID_030031.png\r\n",
      "-rw-r--r--@ 1 rbiswas  staff  150470 Nov 13 14:31 ztf_obsHistID_030032.png\r\n",
      "-rw-r--r--@ 1 rbiswas  staff  150244 Nov 13 14:31 ztf_obsHistID_030033.png\r\n",
      "-rw-r--r--@ 1 rbiswas  staff  150493 Nov 13 14:32 ztf_obsHistID_030034.png\r\n",
      "-rw-r--r--@ 1 rbiswas  staff  150685 Nov 13 14:32 ztf_obsHistID_030035.png\r\n",
      "-rw-r--r--@ 1 rbiswas  staff  150635 Nov 13 14:33 ztf_obsHistID_030036.png\r\n",
      "-rw-r--r--@ 1 rbiswas  staff  150721 Nov 13 14:33 ztf_obsHistID_030037.png\r\n",
      "-rw-r--r--@ 1 rbiswas  staff  150517 Nov 13 14:33 ztf_obsHistID_030038.png\r\n",
      "-rw-r--r--@ 1 rbiswas  staff  168450 Nov 13 14:34 ztf_obsHistID_030039.png\r\n",
      "-rw-r--r--@ 1 rbiswas  staff  168505 Nov 13 14:34 ztf_obsHistID_030040.png\r\n",
      "-rw-r--r--@ 1 rbiswas  staff  168256 Nov 13 14:35 ztf_obsHistID_030041.png\r\n",
      "-rw-r--r--@ 1 rbiswas  staff  168559 Nov 13 14:35 ztf_obsHistID_030042.png\r\n",
      "-rw-r--r--@ 1 rbiswas  staff  168324 Nov 13 14:35 ztf_obsHistID_030043.png\r\n",
      "-rw-r--r--@ 1 rbiswas  staff  168503 Nov 13 14:36 ztf_obsHistID_030044.png\r\n",
      "-rw-r--r--@ 1 rbiswas  staff  168621 Nov 13 14:36 ztf_obsHistID_030045.png\r\n",
      "-rw-r--r--@ 1 rbiswas  staff   84069 Nov 13 14:37 test.mp4\r\n",
      "-rw-r--r--@ 1 rbiswas  staff   84275 Nov 13 17:42 scalingTest_000046.png\r\n",
      "-rw-r--r--@ 1 rbiswas  staff   84250 Nov 13 17:42 scalingTest_000047.png\r\n",
      "-rw-r--r--@ 1 rbiswas  staff   84418 Nov 13 17:42 scalingTest_000048.png\r\n",
      "-rw-r--r--@ 1 rbiswas  staff   84928 Nov 13 17:42 scalingTest_000049.png\r\n",
      "-rw-r--r--@ 1 rbiswas  staff   84043 Nov 13 17:42 scalingTest_000050.png\r\n",
      "-rw-r--r--@ 1 rbiswas  staff   85018 Nov 13 17:43 scalingTest_000051.png\r\n",
      "-rw-r--r--@ 1 rbiswas  staff   84154 Nov 13 17:43 scalingTest_000052.png\r\n",
      "-rw-r--r--@ 1 rbiswas  staff   84802 Nov 13 17:43 scalingTest_000055.png\r\n",
      "-rw-r--r--@ 1 rbiswas  staff   84661 Nov 13 17:43 scalingTest_000056.png\r\n",
      "-rw-r--r--@ 1 rbiswas  staff   85068 Nov 13 17:43 scalingTest_000057.png\r\n",
      "-rw-r--r--@ 1 rbiswas  staff   83100 Nov 13 17:43 scalingTest_000063.png\r\n",
      "-rw-r--r--@ 1 rbiswas  staff   85217 Nov 13 17:43 scalingTest_000064.png\r\n",
      "-rw-r--r--@ 1 rbiswas  staff   84836 Nov 13 17:43 scalingTest_000065.png\r\n",
      "-rw-r--r--@ 1 rbiswas  staff   84681 Nov 13 17:43 scalingTest_000066.png\r\n",
      "-rw-r--r--@ 1 rbiswas  staff   84633 Nov 13 17:43 scalingTest_000067.png\r\n",
      "-rw-r--r--@ 1 rbiswas  staff   84395 Nov 13 17:43 scalingTest_000068.png\r\n",
      "-rw-r--r--  1 rbiswas  staff  349582 Nov 13 17:43 Demo_ztf_sn_scatter.ipynb\r\n",
      "-rw-r--r--@ 1 rbiswas  staff   98281 Nov 13 17:43 scalingTest_000070.png\r\n",
      "-rw-r--r--@ 1 rbiswas  staff   85232 Nov 13 17:44 scalingTest_000071.png\r\n",
      "-rw-r--r--  1 rbiswas  staff  161911 Nov 13 17:44 TestScaling.ipynb\r\n",
      "-rw-r--r--@ 1 rbiswas  staff   85239 Nov 13 17:44 scalingTest_000072.png\r\n",
      "-rw-r--r--@ 1 rbiswas  staff   85236 Nov 13 17:44 scalingTest_000073.png\r\n",
      "-rw-r--r--@ 1 rbiswas  staff   85439 Nov 13 17:44 scalingTest_000074.png\r\n",
      "-rw-r--r--@ 1 rbiswas  staff   85699 Nov 13 17:44 scalingTest_000075.png\r\n",
      "-rw-r--r--@ 1 rbiswas  staff   87067 Nov 13 17:44 scalingTest_000077.png\r\n",
      "-rw-r--r--@ 1 rbiswas  staff   85033 Nov 13 17:44 scalingTest_000078.png\r\n",
      "-rw-r--r--@ 1 rbiswas  staff   85123 Nov 13 17:44 scalingTest_000079.png\r\n",
      "-rw-r--r--@ 1 rbiswas  staff   85620 Nov 13 17:44 scalingTest_000080.png\r\n",
      "-rw-r--r--@ 1 rbiswas  staff   85625 Nov 13 17:44 scalingTest_000081.png\r\n",
      "-rw-r--r--@ 1 rbiswas  staff   91489 Nov 13 17:44 scalingTest_000082.png\r\n",
      "-rw-r--r--@ 1 rbiswas  staff   85693 Nov 13 17:44 scalingTest_000083.png\r\n",
      "-rw-r--r--@ 1 rbiswas  staff   85607 Nov 13 17:45 scalingTest_000084.png\r\n",
      "-rw-r--r--@ 1 rbiswas  staff   84567 Nov 13 17:45 scalingTest_000085.png\r\n",
      "-rw-r--r--@ 1 rbiswas  staff   82727 Nov 13 17:45 scalingTest_000086.png\r\n",
      "-rw-r--r--@ 1 rbiswas  staff   80083 Nov 13 17:45 scalingTest_000087.png\r\n",
      "-rw-r--r--@ 1 rbiswas  staff   77469 Nov 13 17:45 scalingTest_000088.png\r\n",
      "-rw-r--r--@ 1 rbiswas  staff   76258 Nov 13 17:45 scalingTest_000089.png\r\n",
      "-rw-r--r--@ 1 rbiswas  staff   77464 Nov 13 17:45 scalingTest_000090.png\r\n",
      "-rw-r--r--@ 1 rbiswas  staff   81789 Nov 13 17:45 scalingTest_000091.png\r\n",
      "-rw-r--r--@ 1 rbiswas  staff   86071 Nov 13 17:45 scalingTest_000092.png\r\n",
      "-rw-r--r--@ 1 rbiswas  staff   86863 Nov 13 17:45 scalingTest_000093.png\r\n",
      "-rw-r--r--@ 1 rbiswas  staff   87462 Nov 13 17:45 scalingTest_000094.png\r\n",
      "-rw-r--r--  1 rbiswas  staff   15286 Nov 13 17:45 multiImage.log\r\n",
      "-rw-r--r--@ 1 rbiswas  staff   88146 Nov 13 17:45 scalingTest_000095.png\r\n",
      "-rw-r--r--@ 1 rbiswas  staff   88170 Nov 13 17:45 scalingTest_000096.png\r\n",
      "-rw-r--r--@ 1 rbiswas  staff   89099 Nov 13 17:46 scalingTest_000099.png\r\n"
     ]
    }
   ],
   "source": [
    "!ls -ltr"
   ]
  },
  {
   "cell_type": "code",
   "execution_count": null,
   "metadata": {
    "collapsed": true
   },
   "outputs": [],
   "source": [
    "!open ztf_obsHistID_030000.png"
   ]
  },
  {
   "cell_type": "markdown",
   "metadata": {
    "collapsed": true
   },
   "source": [
    "# Scratch"
   ]
  },
  {
   "cell_type": "code",
   "execution_count": null,
   "metadata": {
    "collapsed": false
   },
   "outputs": [],
   "source": [
    "ztfsky = ZTFSNViz(showMW=False)\n",
    "fig, ax, m = ztfsky.generate_image_bg(mwfill=False, lw=5., mwcolor='k')"
   ]
  },
  {
   "cell_type": "code",
   "execution_count": null,
   "metadata": {
    "collapsed": false
   },
   "outputs": [],
   "source": [
    "ra = [-30, 30, 30, -30]\n",
    "dec = [-30, -30, 30, 30]\n",
    "x, y = m(ra, dec)"
   ]
  },
  {
   "cell_type": "code",
   "execution_count": null,
   "metadata": {
    "collapsed": true
   },
   "outputs": [],
   "source": [
    "from matplotlib.patches import Polygon"
   ]
  },
  {
   "cell_type": "code",
   "execution_count": null,
   "metadata": {
    "collapsed": false
   },
   "outputs": [],
   "source": [
    "p = Polygon(zip(x,y), fill=False, color='k', alpha=1.,\n",
    "            **dict(edgecolor='w', lw=5))"
   ]
  },
  {
   "cell_type": "code",
   "execution_count": null,
   "metadata": {
    "collapsed": false
   },
   "outputs": [],
   "source": [
    "ax.add_patch(p)"
   ]
  },
  {
   "cell_type": "code",
   "execution_count": null,
   "metadata": {
    "collapsed": false
   },
   "outputs": [],
   "source": [
    "p.get_lw()"
   ]
  },
  {
   "cell_type": "code",
   "execution_count": null,
   "metadata": {
    "collapsed": false
   },
   "outputs": [],
   "source": [
    "fig"
   ]
  },
  {
   "cell_type": "code",
   "execution_count": null,
   "metadata": {
    "collapsed": true
   },
   "outputs": [],
   "source": []
  },
  {
   "cell_type": "code",
   "execution_count": null,
   "metadata": {
    "collapsed": true
   },
   "outputs": [],
   "source": []
  }
 ],
 "metadata": {
  "anaconda-cloud": {},
  "kernelspec": {
   "display_name": "Python [default]",
   "language": "python",
   "name": "python2"
  },
  "language_info": {
   "codemirror_mode": {
    "name": "ipython",
    "version": 2
   },
   "file_extension": ".py",
   "mimetype": "text/x-python",
   "name": "python",
   "nbconvert_exporter": "python",
   "pygments_lexer": "ipython2",
   "version": "2.7.12"
  }
 },
 "nbformat": 4,
 "nbformat_minor": 1
}
